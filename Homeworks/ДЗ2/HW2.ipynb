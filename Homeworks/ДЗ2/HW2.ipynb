{
 "cells": [
  {
   "cell_type": "code",
   "execution_count": null,
   "metadata": {},
   "outputs": [],
   "source": [
    "import urllib.request\n",
    "import json\n",
    "\n",
    "\n",
    "# функция для выбора пользователя из списка\n",
    "def get_user(user_list):\n",
    "    flag = False\n",
    "    username = ''\n",
    "    while not flag:\n",
    "        username = input('Выберите пользователя из списка: ' + ', '.join(user_list) + '\\n')\n",
    "        if username in user_list:\n",
    "            flag = True\n",
    "    return username"
   ]
  },
  {
   "cell_type": "code",
   "execution_count": null,
   "metadata": {},
   "outputs": [],
   "source": [
    "# функция для получения ответа по url-запросу\n",
    "def get_url_data(url):\n",
    "    token = '7c249582686fede6eefe7de6a71e1833c12d30c5'\n",
    "    full_url = url + '?access_token=%s' % token\n",
    "    response = urllib.request.urlopen(full_url)\n",
    "    text = response.read().decode('utf-8')\n",
    "    return json.loads(text)"
   ]
  },
  {
   "cell_type": "code",
   "execution_count": null,
   "metadata": {},
   "outputs": [],
   "source": [
    "# функция для получения информации о репозиториях пользователя\n",
    "def get_user_repositories(username):\n",
    "    url = 'https://api.github.com/users/%s/repos' % username\n",
    "    repo_data = get_url_data(url)\n",
    "    return repo_data"
   ]
  },
  {
   "cell_type": "code",
   "execution_count": null,
   "metadata": {},
   "outputs": [],
   "source": [
    "# функция для печати информации о репозиториях пользователя\n",
    "def print_user_repositories(username):\n",
    "    repo_data = get_user_repositories(username)\n",
    "\n",
    "    print('Вы выбрали пользователя %s.\\n' % username)\n",
    "    print('Вот список его репозиториев:')\n",
    "\n",
    "    for item in repo_data:\n",
    "        name = item['name']\n",
    "        description = item['description'] if item['description'] else 'None'\n",
    "        print('\\t' + name + ': ' + description)"
   ]
  },
  {
   "cell_type": "code",
   "execution_count": null,
   "metadata": {},
   "outputs": [],
   "source": [
    "# функция для получения информации о языках, используемых пользователем\n",
    "def get_user_languages(username):\n",
    "    url = 'https://api.github.com/users/%s/repos' % username\n",
    "    data = get_url_data(url)\n",
    "    lang_dict = dict()\n",
    "\n",
    "    for item in data:\n",
    "        repo_name = item['name']\n",
    "        languages_url = item['languages_url']\n",
    "        languages = get_url_data(languages_url)\n",
    "\n",
    "        for lang in languages.keys():\n",
    "            if lang not in lang_dict:\n",
    "                lang_dict[lang] = []\n",
    "            lang_dict[lang].append(repo_name)\n",
    "\n",
    "    return lang_dict"
   ]
  },
  {
   "cell_type": "code",
   "execution_count": null,
   "metadata": {},
   "outputs": [],
   "source": [
    "# функция для печати информации о языках, используемых пользователем\n",
    "def print_user_languages(username):\n",
    "    lang_dict = get_user_languages(username)\n",
    "    print('\\nПользователь', username, 'пишет на', ', '.join(lang_dict.keys()), '\\n')\n",
    "\n",
    "    for lang in lang_dict:\n",
    "        print('Язык', lang, 'используется в репозитории', ', '.join(lang_dict[lang]))"
   ]
  },
  {
   "cell_type": "code",
   "execution_count": null,
   "metadata": {},
   "outputs": [],
   "source": [
    "# функция для получения количества репозиториев пользователя\n",
    "def get_n_repositories(username):\n",
    "    url = 'https://api.github.com/users/%s/repos' % username\n",
    "    data = get_url_data(url)\n",
    "    return len(data)"
   ]
  },
  {
   "cell_type": "code",
   "execution_count": null,
   "metadata": {},
   "outputs": [],
   "source": [
    "# функция для определения пользователя с максимальным количеством репозиториев\n",
    "def get_max_repo_user(user_list):\n",
    "    max_n_repos = 0\n",
    "    max_repo_user = ''\n",
    "\n",
    "    for user in user_list:\n",
    "        now_n_repos = get_n_repositories(user)\n",
    "\n",
    "        if now_n_repos > max_n_repos:\n",
    "            max_n_repos = now_n_repos\n",
    "            max_repo_user = user\n",
    "\n",
    "    print('Среди пользователей', ', '.join(user_list), 'больше всего репозиториев у', max_repo_user)"
   ]
  },
  {
   "cell_type": "code",
   "execution_count": null,
   "metadata": {},
   "outputs": [],
   "source": [
    "# функция для получения информации о самом популярном языке\n",
    "def print_most_popular_lang(user_list):\n",
    "    lang_dict = dict()\n",
    "\n",
    "    for user in user_list:\n",
    "        now_lang_dict = get_user_languages(user)\n",
    "        now_lang_dict_pairs_sort = sorted(now_lang_dict.items(), key=lambda kv: len(kv[1]), reverse=True)\n",
    "        now_most_popular_lang = now_lang_dict_pairs_sort[0][0]\n",
    "\n",
    "        if now_most_popular_lang not in lang_dict:\n",
    "            lang_dict[now_most_popular_lang] = 0\n",
    "\n",
    "        lang_dict[now_most_popular_lang] += 1\n",
    "\n",
    "    lang_dict_pairs_sort = sorted(lang_dict.items(), key=lambda kv: kv[1], reverse=True)\n",
    "    most_popular_lang = lang_dict_pairs_sort[0][0]\n",
    "    print('\\nСамый популярный язык среди пользователей', ', '.join(user_list), '--', most_popular_lang, '\\n')"
   ]
  },
  {
   "cell_type": "code",
   "execution_count": null,
   "metadata": {},
   "outputs": [],
   "source": [
    "# функция для получения количества подписчиков пользователя\n",
    "def get_n_followers(username):\n",
    "    url = 'https://api.github.com/users/%s/followers' % username\n",
    "    data = get_url_data(url)\n",
    "    return len(data)"
   ]
  },
  {
   "cell_type": "code",
   "execution_count": null,
   "metadata": {},
   "outputs": [],
   "source": [
    "# функция для печати имени пользователя с максимальным количеством подписчиков\n",
    "def print_max_n_foll_user(user_list):\n",
    "    max_n_foll = 0\n",
    "    max_n_foll_user = ''\n",
    "\n",
    "    for user in user_list:\n",
    "        now_n_foll = get_n_followers(user)\n",
    "\n",
    "        if now_n_foll > max_n_foll:\n",
    "            max_n_foll = now_n_foll\n",
    "            max_n_foll_user = user\n",
    "\n",
    "    print('Среди пользователей', ', '.join(user_list), 'больше всего подписчиков у', max_n_foll_user)"
   ]
  },
  {
   "cell_type": "code",
   "execution_count": null,
   "metadata": {},
   "outputs": [],
   "source": [
    "def main(user_list):\n",
    "    username = get_user(user_list)\n",
    "    print_user_repositories(username)\n",
    "    print_user_languages(username) # OK\n",
    "    print_most_popular_lang(user_list) # OK\n",
    "    print_max_n_foll_user(user_list) # OK\n",
    "\n",
    "\n",
    "if __name__ == '__main__':\n",
    "    import sys\n",
    "\n",
    "    user_names = [\n",
    "        'elmiram', 'maryszmary', 'lizaku', 'nevmenandr', 'ancatmara', 'roctbb',\n",
    "        # 'akutuzov', 'agricolamz', 'lehkost', 'kylepjohnson', 'mikekestemont', 'demidovakatya',\n",
    "        # 'shwars', 'JelteF', 'timgraham', 'arogozhnikov', 'jasny', 'bcongdon', 'whyisjake', 'gvanrossum'\n",
    "        ]\n",
    "\n",
    "    sys.exit(main(user_names))\n"
   ]
  }
 ],
 "metadata": {
  "kernelspec": {
   "display_name": "Python 3",
   "language": "python",
   "name": "python3"
  },
  "language_info": {
   "codemirror_mode": {
    "name": "ipython",
    "version": 3
   },
   "file_extension": ".py",
   "mimetype": "text/x-python",
   "name": "python",
   "nbconvert_exporter": "python",
   "pygments_lexer": "ipython3",
   "version": "3.6.5"
  }
 },
 "nbformat": 4,
 "nbformat_minor": 2
}
